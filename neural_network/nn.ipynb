{
 "cells": [
  {
   "cell_type": "markdown",
   "metadata": {},
   "source": [
    "Imports"
   ]
  },
  {
   "cell_type": "code",
   "execution_count": 1,
   "metadata": {},
   "outputs": [],
   "source": [
    "import numpy as np\n",
    "import tensorflow as tf"
   ]
  },
  {
   "cell_type": "markdown",
   "metadata": {},
   "source": [
    "Load the data"
   ]
  },
  {
   "cell_type": "code",
   "execution_count": 2,
   "metadata": {},
   "outputs": [],
   "source": [
    "# Load the training data first:\n",
    "npz = np.load('financial_data_train.npz')\n",
    "\n",
    "train_inputs = npz['inputs'].astype(np.float64)\n",
    "train_targets = npz['targets'].astype(np.int32)\n",
    "\n",
    "# Load the validation data next:\n",
    "npz = np.load('financial_data_validation.npz')\n",
    "\n",
    "validation_inputs = npz['inputs'].astype(np.float64)\n",
    "validation_targets = npz['targets'].astype(np.int32)\n",
    "\n",
    "# Finally, load the test data:\n",
    "npz = np.load('financial_data_test.npz')\n",
    "\n",
    "test_inputs = npz['inputs'].astype(np.float64)\n",
    "test_targets = npz['targets'].astype(np.int32)"
   ]
  },
  {
   "cell_type": "markdown",
   "metadata": {},
   "source": [
    "Neural Network model"
   ]
  },
  {
   "cell_type": "code",
   "execution_count": 7,
   "metadata": {},
   "outputs": [
    {
     "name": "stdout",
     "output_type": "stream",
     "text": [
      "Epoch 1/100\n",
      "1303/1303 - 3s - 2ms/step - accuracy: 0.5062 - loss: 0.6958 - val_accuracy: 0.5128 - val_loss: 0.6929 - learning_rate: 0.0010\n",
      "Epoch 2/100\n",
      "1303/1303 - 1s - 1ms/step - accuracy: 0.5164 - loss: 0.6925 - val_accuracy: 0.5171 - val_loss: 0.6921 - learning_rate: 0.0010\n",
      "Epoch 3/100\n",
      "1303/1303 - 1s - 1ms/step - accuracy: 0.5337 - loss: 0.6890 - val_accuracy: 0.5333 - val_loss: 0.6885 - learning_rate: 0.0010\n",
      "Epoch 4/100\n",
      "1303/1303 - 1s - 1ms/step - accuracy: 0.5437 - loss: 0.6840 - val_accuracy: 0.5441 - val_loss: 0.6814 - learning_rate: 0.0010\n",
      "Epoch 5/100\n",
      "1303/1303 - 1s - 1ms/step - accuracy: 0.5494 - loss: 0.6799 - val_accuracy: 0.5452 - val_loss: 0.6787 - learning_rate: 0.0010\n",
      "Epoch 6/100\n",
      "1303/1303 - 1s - 1ms/step - accuracy: 0.5563 - loss: 0.6759 - val_accuracy: 0.5485 - val_loss: 0.6762 - learning_rate: 0.0010\n",
      "Epoch 7/100\n",
      "1303/1303 - 1s - 1ms/step - accuracy: 0.5606 - loss: 0.6735 - val_accuracy: 0.5457 - val_loss: 0.6744 - learning_rate: 0.0010\n",
      "Epoch 8/100\n",
      "1303/1303 - 1s - 1ms/step - accuracy: 0.5649 - loss: 0.6709 - val_accuracy: 0.5507 - val_loss: 0.6715 - learning_rate: 0.0010\n",
      "Epoch 9/100\n",
      "1303/1303 - 1s - 1ms/step - accuracy: 0.5631 - loss: 0.6694 - val_accuracy: 0.5602 - val_loss: 0.6669 - learning_rate: 0.0010\n",
      "Epoch 10/100\n",
      "1303/1303 - 3s - 2ms/step - accuracy: 0.5650 - loss: 0.6670 - val_accuracy: 0.5633 - val_loss: 0.6649 - learning_rate: 0.0010\n",
      "Epoch 11/100\n",
      "1303/1303 - 2s - 2ms/step - accuracy: 0.5668 - loss: 0.6665 - val_accuracy: 0.5533 - val_loss: 0.6662 - learning_rate: 0.0010\n",
      "Epoch 12/100\n",
      "1303/1303 - 1s - 1ms/step - accuracy: 0.5691 - loss: 0.6639 - val_accuracy: 0.5587 - val_loss: 0.6634 - learning_rate: 0.0010\n",
      "Epoch 13/100\n",
      "1303/1303 - 1s - 1ms/step - accuracy: 0.5672 - loss: 0.6637 - val_accuracy: 0.5671 - val_loss: 0.6613 - learning_rate: 0.0010\n",
      "Epoch 14/100\n",
      "1303/1303 - 2s - 1ms/step - accuracy: 0.5676 - loss: 0.6630 - val_accuracy: 0.5699 - val_loss: 0.6596 - learning_rate: 0.0010\n",
      "Epoch 15/100\n",
      "1303/1303 - 1s - 1ms/step - accuracy: 0.5648 - loss: 0.6621 - val_accuracy: 0.5677 - val_loss: 0.6591 - learning_rate: 0.0010\n",
      "Epoch 16/100\n",
      "1303/1303 - 2s - 1ms/step - accuracy: 0.5688 - loss: 0.6611 - val_accuracy: 0.5660 - val_loss: 0.6586 - learning_rate: 0.0010\n",
      "Epoch 17/100\n",
      "1303/1303 - 2s - 1ms/step - accuracy: 0.5691 - loss: 0.6598 - val_accuracy: 0.5743 - val_loss: 0.6549 - learning_rate: 0.0010\n",
      "Epoch 18/100\n",
      "1303/1303 - 2s - 1ms/step - accuracy: 0.5696 - loss: 0.6589 - val_accuracy: 0.5733 - val_loss: 0.6564 - learning_rate: 0.0010\n",
      "Epoch 19/100\n",
      "1303/1303 - 3s - 2ms/step - accuracy: 0.5704 - loss: 0.6588 - val_accuracy: 0.5632 - val_loss: 0.6579 - learning_rate: 0.0010\n",
      "Epoch 20/100\n",
      "1303/1303 - 2s - 1ms/step - accuracy: 0.5690 - loss: 0.6577 - val_accuracy: 0.5702 - val_loss: 0.6552 - learning_rate: 0.0010\n",
      "Epoch 21/100\n",
      "1303/1303 - 2s - 1ms/step - accuracy: 0.5685 - loss: 0.6583 - val_accuracy: 0.5707 - val_loss: 0.6546 - learning_rate: 0.0010\n",
      "Epoch 22/100\n",
      "1303/1303 - 2s - 1ms/step - accuracy: 0.5700 - loss: 0.6577 - val_accuracy: 0.5754 - val_loss: 0.6519 - learning_rate: 0.0010\n",
      "Epoch 23/100\n",
      "1303/1303 - 2s - 1ms/step - accuracy: 0.5708 - loss: 0.6566 - val_accuracy: 0.5810 - val_loss: 0.6509 - learning_rate: 0.0010\n",
      "Epoch 24/100\n",
      "1303/1303 - 2s - 1ms/step - accuracy: 0.5718 - loss: 0.6568 - val_accuracy: 0.5786 - val_loss: 0.6508 - learning_rate: 0.0010\n",
      "Epoch 25/100\n",
      "1303/1303 - 2s - 1ms/step - accuracy: 0.5705 - loss: 0.6558 - val_accuracy: 0.5755 - val_loss: 0.6510 - learning_rate: 0.0010\n",
      "Epoch 26/100\n",
      "1303/1303 - 2s - 1ms/step - accuracy: 0.5701 - loss: 0.6569 - val_accuracy: 0.5743 - val_loss: 0.6531 - learning_rate: 0.0010\n",
      "Epoch 27/100\n",
      "1303/1303 - 2s - 1ms/step - accuracy: 0.5726 - loss: 0.6561 - val_accuracy: 0.5796 - val_loss: 0.6487 - learning_rate: 0.0010\n",
      "Epoch 28/100\n",
      "1303/1303 - 2s - 1ms/step - accuracy: 0.5697 - loss: 0.6559 - val_accuracy: 0.5788 - val_loss: 0.6469 - learning_rate: 0.0010\n"
     ]
    },
    {
     "data": {
      "text/plain": [
       "<keras.src.callbacks.history.History at 0x1c5993372f0>"
      ]
     },
     "execution_count": 7,
     "metadata": {},
     "output_type": "execute_result"
    }
   ],
   "source": [
    "input_size = 47 # Number of features in the input data set.\n",
    "output_size = 2 # Since the outcome is binary.\n",
    "\n",
    "hidden_layer_size = (input_size + output_size) // 2\n",
    "\n",
    "model = tf.keras.Sequential([\n",
    "    tf.keras.layers.Input(shape=(input_size,)),  # Input layer\n",
    "    tf.keras.layers.Dense(hidden_layer_size, activation= 'relu'), # Hidden Layer 1\n",
    "    tf.keras.layers.Dropout(0.5), \n",
    "    tf.keras.layers.Dense(hidden_layer_size, activation= 'relu'), # Hidden Layer 2\n",
    "    tf.keras.layers.Dropout(0.5), \n",
    "    tf.keras.layers.Dense(hidden_layer_size, activation= 'relu'), # Hidden Layer 3\n",
    "    tf.keras.layers.Dropout(0.5), \n",
    "    tf.keras.layers.Dense(output_size, activation= 'softmax') # Output layer\n",
    "])\n",
    "\n",
    "optimizer = tf.keras.optimizers.SGD(learning_rate= 0.01, momentum= 0.9)\n",
    "\n",
    "model.compile(\n",
    "    optimizer= 'adam',\n",
    "    loss= 'sparse_categorical_crossentropy', # Since the outcome is binary (0 or 1) \n",
    "    metrics= ['accuracy'] # parameters over which the model accuracy is evaluated\n",
    ")\n",
    "\n",
    "batch_size = 64\n",
    "max_epochs = 100 # Training will stop after 100 cycles if callback doesn't kick in.\n",
    "\n",
    "# Implementing callback -> EarlyStopping with a patience of 10 so that\n",
    "# if the validation accuracy doesn't increase for 10 consecutive trainin\n",
    "# epochs we can stop the training of model.\n",
    "# This helps to prevent overfitting.\n",
    "early_stopping = tf.keras.callbacks.EarlyStopping(monitor= 'val_accuracy', patience= 5, restore_best_weights= True)\n",
    "\n",
    "reduce_lr = tf.keras.callbacks.ReduceLROnPlateau(monitor= 'val_accuracy', factor= 0.2, patience= 2, min_lr= 0.001)\n",
    "\n",
    "model.fit(\n",
    "    train_inputs,\n",
    "    train_targets,\n",
    "    batch_size = batch_size,\n",
    "    epochs= max_epochs,\n",
    "    callbacks= [early_stopping, reduce_lr],\n",
    "    validation_data= (validation_inputs, validation_targets),\n",
    "    verbose= 2\n",
    ")"
   ]
  },
  {
   "cell_type": "code",
   "execution_count": null,
   "metadata": {},
   "outputs": [],
   "source": []
  }
 ],
 "metadata": {
  "kernelspec": {
   "display_name": "Python 3",
   "language": "python",
   "name": "python3"
  },
  "language_info": {
   "codemirror_mode": {
    "name": "ipython",
    "version": 3
   },
   "file_extension": ".py",
   "mimetype": "text/x-python",
   "name": "python",
   "nbconvert_exporter": "python",
   "pygments_lexer": "ipython3",
   "version": "3.12.3"
  }
 },
 "nbformat": 4,
 "nbformat_minor": 2
}
